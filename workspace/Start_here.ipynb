{
 "cells": [
  {
   "cell_type": "markdown",
   "metadata": {},
   "source": [
    "# End-to-end computer vision bootcamp\n",
    "\n",
    "## Learning objectives\n",
    "\n",
    "The goal of this bootcamp is to build a complete end-to-end computer vision pipeline for an object detection application. This material will introduce participants to multiple NVIDIA® SDKs, most notably NVIDIA TAO Toolkit, NVIDIA TensorRT™, NVIDIA Triton™ Inference Server, and NVIDIA DeepStream SDK while giving hands-on experience in data preprocessing, model training, optimization, and deployment at scale.\n",
    "\n",
    "A key objective of this bootcamp is to show participants how to seamlessly combine these SDKs so that the same development methodology can be applied to similar use cases as well, even outside the domain of computer vision. With a broader idea of the production flow, participants will be able to better evaluate the complexity and progress of their machine learning projects.\n",
    "\n",
    "The bootcamp assumes familiarity with Deep Learning and Computer Vision fundamentals.\n",
    "\n",
    "* Language: Python\n",
    "* Frameworks: NVIDIA TAO Toolkit, NVIDIA TensorRT, NVIDIA Triton Inference Server, NVIDIA DeepStream SDK, OpenCV\n",
    "\n",
    "It is not required, although useful, to have more than one GPU for the bootcamp. Let's start by testing the GPUs you are running the code on in this bootcamp:"
   ]
  },
  {
   "cell_type": "code",
   "execution_count": null,
   "metadata": {},
   "outputs": [],
   "source": [
    "!nvidia-smi"
   ]
  },
  {
   "cell_type": "markdown",
   "metadata": {
    "jp-MarkdownHeadingCollapsed": true,
    "tags": []
   },
   "source": [
    "## Bootcamp outline\n",
    "\n",
    "The following contents will be covered during the bootcamp:\n",
    "\n",
    "- [**Lab 1: Data labeling and preprocessing**](jupyter_notebook/1.Data_labeling_and_preprocessing.ipynb)\n",
    "- [**Lab 2: Object detection using TAO YOLOv4**](jupyter_notebook/2.Object_detection_using_TAO_YOLOv4.ipynb)\n",
    "- [**Lab 3: Model deployment with Triton Inference Server**](jupyter_notebook/3.Model_deployment_with_Triton_Inference_Server.ipynb)\n",
    "- [**Lab 4: Model deployment with DeepStream**](jupyter_notebook/4.Model_deployment_with_DeepStream.ipynb)\n",
    "- [**Lab 5: Measure object size using OpenCV**](jupyter_notebook/5.Measure_object_size_using_OpenCV.ipynb)\n",
    "- [**Challenge 1: DeepStream SDK**](jupyter_notebook/6.Challenge_DeepStream.ipynb)\n",
    "- [**Challenge 2: Triton Inference Server**](jupyter_notebook/7.Challenge_Triton.ipynb)\n",
    "\n",
    "Note: the challenges are extra modules that you can try after learning the individual modules to test your knowledge."
   ]
  },
  {
   "cell_type": "markdown",
   "metadata": {
    "tags": []
   },
   "source": [
    "## Bootcamp duration\n",
    "The lab material will be presented in a total of 8.5 hours. The link to the material is available for download at the end of the lab.\n",
    "\n",
    "## Content level\n",
    "Beginner, Intermediate.\n",
    "\n",
    "## Target audience and prerequisites\n",
    "The target audience for this lab is researchers/graduate students and developers who are interested in learning about building an end-to-end computer vision pipeline to bring their scientific or industrial application ideas to life.\n",
    "\n",
    "A basic understanding of Deep Learning and Computer Vision is required.\n",
    "\n",
    "**Hardware Note:** *all the material was tested and is set to run on a DGX machine equipped with an Ampere A100 GPU. The material was also tested using a workstation equipped with an NVIDIA RTX A3000 GPU with 6GB of VRAM, reducing all the batch sizes to 8 during training. The results may vary when using different hardware and some hyperparameters may not be ideal for fully taking advantage of the graphic card.*"
   ]
  },
  {
   "cell_type": "markdown",
   "metadata": {},
   "source": [
    "--- \n",
    "\n",
    "## Licensing\n",
    "\n",
    "Copyright © 2022 OpenACC-Standard.org. This material is released by OpenACC-Standard.org, in collaboration with NVIDIA Corporation, under the Creative Commons Attribution 4.0 International (CC BY 4.0). These materials include references to hardware and software developed by other entities; all applicable licensing and copyrights apply."
   ]
  }
 ],
 "metadata": {
  "kernelspec": {
   "display_name": "Python 3",
   "language": "python",
   "name": "python3"
  },
  "language_info": {
   "codemirror_mode": {
    "name": "ipython",
    "version": 3
   },
   "file_extension": ".py",
   "mimetype": "text/x-python",
   "name": "python",
   "nbconvert_exporter": "python",
   "pygments_lexer": "ipython3",
   "version": "3.6.13"
  },
  "toc-autonumbering": false
 },
 "nbformat": 4,
 "nbformat_minor": 4
}
